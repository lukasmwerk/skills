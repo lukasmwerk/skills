{
 "cells": [
  {
   "cell_type": "markdown",
   "metadata": {},
   "source": [
    "# **Python** from a leetcode perspective\n",
    "\n",
    "Tips and tricks for python that cater especially to leetcode-style programming"
   ]
  },
  {
   "cell_type": "markdown",
   "metadata": {},
   "source": [
    "## 1. Basics"
   ]
  },
  {
   "cell_type": "markdown",
   "metadata": {},
   "source": [
    "Ranges"
   ]
  },
  {
   "cell_type": "code",
   "execution_count": 1,
   "metadata": {},
   "outputs": [
    {
     "name": "stdout",
     "output_type": "stream",
     "text": [
      "[0, 2, 4, 6, 8]\n",
      "20\n",
      "True\n",
      "False\n",
      "[np.int64(0), np.int64(2), np.int64(6), np.int64(12), np.int64(20)]\n"
     ]
    }
   ],
   "source": [
    "import numpy as np\n",
    "\n",
    "# Creating sequences range(low inclusive, high exclusive, step size)\n",
    "R = range(0,10,2)\n",
    "\n",
    "print(list(R))\n",
    "\n",
    "print(sum(range(0,10,2)))\n",
    "\n",
    "print(any(a%3==0 for a in range(0,10,2)))\n",
    "\n",
    "print(all(a%3==0 for a in range(0,10,2)))\n",
    "\n",
    "print(list(np.cumsum(range(0,10,2))))"
   ]
  },
  {
   "cell_type": "markdown",
   "metadata": {},
   "source": [
    "Enumerations"
   ]
  },
  {
   "cell_type": "code",
   "execution_count": 3,
   "metadata": {},
   "outputs": [
    {
     "name": "stdout",
     "output_type": "stream",
     "text": [
      "[(0, 'Hello'), (1, 'World'), (2, '!')]\n",
      "Hello World !\n"
     ]
    }
   ],
   "source": [
    "a = ['Hello', 'World', '!']\n",
    "\n",
    "print(list(enumerate(a)))\n",
    "\n",
    "print(\" \".join(a))"
   ]
  },
  {
   "cell_type": "markdown",
   "metadata": {},
   "source": [
    "Iterables"
   ]
  },
  {
   "cell_type": "code",
   "execution_count": 18,
   "metadata": {},
   "outputs": [
    {
     "name": "stdout",
     "output_type": "stream",
     "text": [
      "[(1, 'a'), (2, 'b'), (3, 'c')]\n",
      "[(1, 2, 3), ('a', 'b', 'c')]\n"
     ]
    }
   ],
   "source": [
    "# zipping and unzipping\n",
    "\n",
    "a = [1,2,3]\n",
    "b = ['a','b','c']\n",
    "\n",
    "z = list(zip(a, b))\n",
    "print(z)\n",
    "\n",
    "unzipped = list(zip(*z)) # \"unzip\"\n",
    "print(unzipped)"
   ]
  },
  {
   "cell_type": "code",
   "execution_count": 20,
   "metadata": {},
   "outputs": [
    {
     "name": "stdout",
     "output_type": "stream",
     "text": [
      "2\n",
      "-3\n",
      "-3\n"
     ]
    }
   ],
   "source": [
    "# min/max from iterable\n",
    "\n",
    "a = [1,2,-3]\n",
    "print(max(a))\n",
    "print(min(a))\n",
    "print(max(a, key=abs))"
   ]
  },
  {
   "cell_type": "code",
   "execution_count": 24,
   "metadata": {},
   "outputs": [
    {
     "name": "stdout",
     "output_type": "stream",
     "text": [
      "['a', 'b', 'c']\n",
      "a,b,c\n"
     ]
    }
   ],
   "source": [
    "# strings\n",
    "s = \"a,b,c\"\n",
    "split = s.split(\",\")\n",
    "print(split)\n",
    "\n",
    "s2 = \",\".join(split)\n",
    "print(s2)\n"
   ]
  },
  {
   "cell_type": "code",
   "execution_count": 23,
   "metadata": {},
   "outputs": [],
   "source": [
    "# merge/upsert 2 dicts"
   ]
  },
  {
   "cell_type": "code",
   "execution_count": null,
   "metadata": {},
   "outputs": [],
   "source": []
  }
 ],
 "metadata": {
  "kernelspec": {
   "display_name": "base",
   "language": "python",
   "name": "python3"
  },
  "language_info": {
   "codemirror_mode": {
    "name": "ipython",
    "version": 3
   },
   "file_extension": ".py",
   "mimetype": "text/x-python",
   "name": "python",
   "nbconvert_exporter": "python",
   "pygments_lexer": "ipython3",
   "version": "3.12.2"
  }
 },
 "nbformat": 4,
 "nbformat_minor": 2
}
